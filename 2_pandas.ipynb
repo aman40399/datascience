{
 "cells": [
  {
   "cell_type": "markdown",
   "id": "01893715",
   "metadata": {},
   "source": [
    "# pandas \n",
    "Pandas is usually imported under the pd alias.\n",
    "alias: In Python alias are an alternate name for referring to the same thing.\n",
    "as keyword while importing:"
   ]
  },
  {
   "cell_type": "code",
   "execution_count": null,
   "id": "4bbc4e86",
   "metadata": {},
   "outputs": [],
   "source": [
    "import pandas as pd"
   ]
  },
  {
   "cell_type": "code",
   "execution_count": null,
   "id": "64030e9e",
   "metadata": {},
   "outputs": [
    {
     "name": "stdout",
     "output_type": "stream",
     "text": [
      "2.3.0\n"
     ]
    }
   ],
   "source": [
    "print(pd.__version__) # used to display the version of pandas"
   ]
  },
  {
   "cell_type": "code",
   "execution_count": 8,
   "id": "fce24e2d",
   "metadata": {},
   "outputs": [],
   "source": [
    "# lets create a  dic the convert it to a dataframe\n",
    "data = {\n",
    "    'Name':['Aman', 'John', 'Doe'],\n",
    "    'Age': [25, 30, 22],\n",
    "    'City': ['New York', 'Los Angeles', 'Chicago']\n",
    "}\n",
    "dataframe =pd.DataFrame(data)"
   ]
  },
  {
   "cell_type": "markdown",
   "id": "07ba51e0",
   "metadata": {},
   "source": [
    "What is a Series?\n",
    "\n",
    "A Pandas Series is like a column in a table.\n",
    "\n",
    "It is a one-dimensional array holding data of any type."
   ]
  },
  {
   "cell_type": "code",
   "execution_count": null,
   "id": "d39a78b9",
   "metadata": {},
   "outputs": [
    {
     "ename": "AttributeError",
     "evalue": "module 'pandas' has no attribute 'series'",
     "output_type": "error",
     "traceback": [
      "\u001b[31m---------------------------------------------------------------------------\u001b[39m",
      "\u001b[31mAttributeError\u001b[39m                            Traceback (most recent call last)",
      "\u001b[36mCell\u001b[39m\u001b[36m \u001b[39m\u001b[32mIn[9]\u001b[39m\u001b[32m, line 3\u001b[39m\n\u001b[32m      1\u001b[39m \u001b[38;5;66;03m#list \u001b[39;00m\n\u001b[32m      2\u001b[39m a=[\u001b[32m1\u001b[39m,\u001b[32m2\u001b[39m,\u001b[32m3\u001b[39m,\u001b[32m4\u001b[39m,\u001b[32m5\u001b[39m]\n\u001b[32m----> \u001b[39m\u001b[32m3\u001b[39m b=\u001b[43mpd\u001b[49m\u001b[43m.\u001b[49m\u001b[43mseries\u001b[49m(a);\n",
      "\u001b[31mAttributeError\u001b[39m: module 'pandas' has no attribute 'series'"
     ]
    }
   ],
   "source": [
    "#list  \n",
    "a=[1,2,3,4,5]\n"
   ]
  },
  {
   "cell_type": "code",
   "execution_count": null,
   "id": "3384e55e",
   "metadata": {},
   "outputs": [],
   "source": [
    "a= [,2,3,4,5]"
   ]
  }
 ],
 "metadata": {
  "kernelspec": {
   "display_name": "myenv",
   "language": "python",
   "name": "python3"
  },
  "language_info": {
   "codemirror_mode": {
    "name": "ipython",
    "version": 3
   },
   "file_extension": ".py",
   "mimetype": "text/x-python",
   "name": "python",
   "nbconvert_exporter": "python",
   "pygments_lexer": "ipython3",
   "version": "3.13.3"
  }
 },
 "nbformat": 4,
 "nbformat_minor": 5
}
