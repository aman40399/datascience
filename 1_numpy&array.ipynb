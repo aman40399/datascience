{
  "cells": [
    {
      "cell_type": "markdown",
      "metadata": {
        "colab_type": "text",
        "id": "view-in-github"
      },
      "source": [
        "<a href=\"https://colab.research.google.com/github/aman40399/AIML/blob/main/numpy%26array.ipynb\" target=\"_parent\"><img src=\"https://colab.research.google.com/assets/colab-badge.svg\" alt=\"Open In Colab\"/></a>"
      ]
    },
    {
      "cell_type": "markdown",
      "metadata": {
        "id": "s1T6FPJJJWq1"
      },
      "source": [
        "# numpy\n",
        "NumPy (Numerical Python) is an open source Python library . The NumPy library contains multidimensional array data structures, such as the homogeneous, N-dimensional ndarray, and a large library of functions that operate efficiently on these data structures"
      ]
    },
    {
      "cell_type": "markdown",
      "metadata": {
        "id": "JXdXiptkKFos"
      },
      "source": [
        "python arrays /containers are heterogenious mean they can store any int var char any type of variable but numoy shines in homogenous data to be processed on the cpu"
      ]
    },
    {
      "cell_type": "markdown",
      "metadata": {
        "id": "WCbPf1BTKlnT"
      },
      "source": [
        "some restrictions\n",
        "Most NumPy arrays have some restrictions. For instance:\n",
        "\n",
        "    All elements of the array must be of the same type of data.\n",
        "\n",
        "    Once created, the total size of the array can’t change.\n",
        "\n",
        "    The shape must be “rectangular”, not “jagged”; e.g., each row of a two-dimensional array must have the same number of columns.\n",
        "\n"
      ]
    },
    {
      "cell_type": "markdown",
      "metadata": {},
      "source": [
        "# why numpy ?\n",
        "NumPy is a fundamental Python library designed for efficient numerical and scientific computing, especially when working with large datasets or performing complex mathematical operations. Here’s why we use NumPy:\n",
        "Key Reasons to Use NumPy\n",
        "\n",
        "1. Fast and Efficient Array Operations\n",
        "\n",
        "    NumPy provides an array object called ndarray that is much faster than Python’s built-in lists for numerical operations. This speed comes from the fact that NumPy arrays are stored in contiguous memory and leverage optimized C and C++ code under the hood, making operations up to 50x faster than native Python lists\n",
        "\n",
        "    .\n",
        "\n",
        "2. Powerful Mathematical Functions\n",
        "\n",
        "    NumPy comes with a wide range of mathematical functions, including linear algebra, Fourier transforms, random number generation, and statistical operations, all optimized for use with arrays\n",
        "\n",
        "    .\n",
        "\n",
        "3. Vectorization and Readable Code\n",
        "\n",
        "    Operations in NumPy are vectorized, meaning you can perform element-wise operations on entire arrays without explicit loops. This not only improves speed but also makes code cleaner and closer to standard mathematical notation\n",
        "\n",
        "    .\n",
        "\n",
        "4. Multidimensional Arrays\n",
        "\n",
        "    NumPy supports n-dimensional arrays (tensors), making it easy to work with matrices and higher-dimensional data, which is essential for scientific computing, machine learning, and data analysis\n",
        "\n",
        "."
      ]
    },
    {
      "cell_type": "code",
      "execution_count": 2,
      "metadata": {
        "id": "p8NOb1zIIEID"
      },
      "outputs": [],
      "source": [
        "import numpy as np"
      ]
    },
    {
      "cell_type": "code",
      "execution_count": 3,
      "metadata": {
        "colab": {
          "base_uri": "https://localhost:8080/"
        },
        "id": "yfu7rLFIME_K",
        "outputId": "a471f21f-480c-4dbf-c0c6-2e379dc83ea1"
      },
      "outputs": [
        {
          "data": {
            "text/plain": [
              "array([[111],\n",
              "       [222],\n",
              "       [333],\n",
              "       [444]])"
            ]
          },
          "execution_count": 3,
          "metadata": {},
          "output_type": "execute_result"
        }
      ],
      "source": [
        "#manual array genration\n",
        "a=np.array([[111],[222],[333],[444]])\n",
        "a\n"
      ]
    },
    {
      "cell_type": "markdown",
      "metadata": {
        "id": "cj3hYQP-M2xd"
      },
      "source": [
        "#  Array Attributes"
      ]
    },
    {
      "cell_type": "markdown",
      "metadata": {
        "id": "Tzm7VvEwM0f2"
      },
      "source": [
        "this section covers the ndim, shape, size, and dtype attributes of an array."
      ]
    },
    {
      "cell_type": "markdown",
      "metadata": {
        "id": "j6adn7rhNKEc"
      },
      "source": [
        "to check number of dimesion present in array"
      ]
    },
    {
      "cell_type": "code",
      "execution_count": 4,
      "metadata": {
        "colab": {
          "base_uri": "https://localhost:8080/"
        },
        "id": "Ib6gV-DcMq3O",
        "outputId": "682faa4b-d73a-4008-d558-4073475d70f0"
      },
      "outputs": [
        {
          "data": {
            "text/plain": [
              "2"
            ]
          },
          "execution_count": 4,
          "metadata": {},
          "output_type": "execute_result"
        }
      ],
      "source": [
        "a.ndim"
      ]
    },
    {
      "cell_type": "markdown",
      "metadata": {
        "id": "mEzLd1w2JYFd"
      },
      "source": []
    },
    {
      "cell_type": "markdown",
      "metadata": {
        "id": "7VWuD286NSoF"
      },
      "source": [
        "inoder to check the shape of your array : or : rows & columns"
      ]
    },
    {
      "cell_type": "code",
      "execution_count": 5,
      "metadata": {
        "colab": {
          "base_uri": "https://localhost:8080/"
        },
        "id": "wFll3otWNQWQ",
        "outputId": "bf2b4d5a-76db-4e51-e398-65fe3fa82516"
      },
      "outputs": [
        {
          "data": {
            "text/plain": [
              "(4, 1)"
            ]
          },
          "execution_count": 5,
          "metadata": {},
          "output_type": "execute_result"
        }
      ],
      "source": [
        "a.shape  #4 rows, 1 column"
      ]
    },
    {
      "cell_type": "code",
      "execution_count": 6,
      "metadata": {
        "colab": {
          "base_uri": "https://localhost:8080/"
        },
        "id": "98xy5-usPB9m",
        "outputId": "5fc1b004-4a84-475e-d90d-09a0e0b069be"
      },
      "outputs": [
        {
          "data": {
            "text/plain": [
              "True"
            ]
          },
          "execution_count": 6,
          "metadata": {},
          "output_type": "execute_result"
        }
      ],
      "source": [
        "# len of give result bu a.shape which is (5,1) is same as a.ndim\n",
        "len(a.shape)==a.ndim\n",
        "\n",
        "\n",
        "\n"
      ]
    },
    {
      "cell_type": "markdown",
      "metadata": {},
      "source": [
        "tpy"
      ]
    },
    {
      "cell_type": "markdown",
      "metadata": {},
      "source": [
        "# onlie last line code output is shown inside , the jupiter note book so inorder to show all the code u can use container like tuple below "
      ]
    },
    {
      "cell_type": "markdown",
      "metadata": {
        "id": "FX81aCRQoK1H"
      },
      "source": [
        "the fixed, total number of elements in array is contained in the size attribute"
      ]
    },
    {
      "cell_type": "code",
      "execution_count": 7,
      "metadata": {
        "colab": {
          "base_uri": "https://localhost:8080/"
        },
        "id": "z4ELRg_PoKHe",
        "outputId": "63ca584b-c5fb-440e-8ffc-08c7ddf90750"
      },
      "outputs": [
        {
          "data": {
            "text/plain": [
              "(4, dtype('int64'), 8, 32)"
            ]
          },
          "execution_count": 7,
          "metadata": {},
          "output_type": "execute_result"
        }
      ],
      "source": [
        "a.size #total number of elements in the array # 4 rows * 1 column = 4 elements\n",
        "a.dtype #data type of the array elements, here it is int64\n",
        "a.itemsize #size of each element in bytes, here it is 8 bytes for int64\n",
        "a.nbytes #total number of bytes used by the array, here it is 32 bytes (4 elements * 8 bytes each)\n",
        "(a.size, a.dtype, a.itemsize, a.nbytes)  #tuple of size, dtype, itemsize, nbytes"
      ]
    },
    {
      "cell_type": "code",
      "execution_count": null,
      "metadata": {},
      "outputs": [],
      "source": []
    },
    {
      "cell_type": "markdown",
      "metadata": {
        "id": "MhVk4MOpoJ61"
      },
      "source": []
    },
    {
      "cell_type": "markdown",
      "metadata": {
        "id": "oiUyPsX7oN2i"
      },
      "source": [
        "inorder to find the type of data type in narray"
      ]
    },
    {
      "cell_type": "code",
      "execution_count": 8,
      "metadata": {
        "colab": {
          "base_uri": "https://localhost:8080/"
        },
        "id": "gjztFzpcPDcg",
        "outputId": "3da8cbd2-9afc-4cca-a7f4-017bf19514db"
      },
      "outputs": [
        {
          "data": {
            "text/plain": [
              "array([1., 2., 3., 4.])"
            ]
          },
          "execution_count": 8,
          "metadata": {},
          "output_type": "execute_result"
        }
      ],
      "source": [
        "a.dtype\n",
        "\n",
        "# NOTE\n",
        "# dtype can also be used  to specify value of your array\n",
        "np.array([1,2,3,4],dtype=float)"
      ]
    },
    {
      "cell_type": "markdown",
      "metadata": {
        "id": "bF0iR58yoiNx"
      },
      "source": [
        "to find the number of elements inside the narray"
      ]
    },
    {
      "cell_type": "markdown",
      "metadata": {
        "id": "gshd-ygDoerF"
      },
      "source": [
        "to find the"
      ]
    },
    {
      "cell_type": "code",
      "execution_count": 9,
      "metadata": {
        "colab": {
          "base_uri": "https://localhost:8080/"
        },
        "id": "rKdDhSyPPIDm",
        "outputId": "0ac7e401-5990-4b7c-a296-433e02142e96"
      },
      "outputs": [
        {
          "data": {
            "text/plain": [
              "4"
            ]
          },
          "execution_count": 9,
          "metadata": {},
          "output_type": "execute_result"
        }
      ],
      "source": [
        "a.size"
      ]
    },
    {
      "cell_type": "markdown",
      "metadata": {
        "id": "eyOh7xlKosTL"
      },
      "source": [
        "# How to create a basic array\n",
        "\n",
        "This section covers np.zeros(), np.ones(), np.empty(), np.arange(), np.linspace()"
      ]
    },
    {
      "cell_type": "markdown",
      "metadata": {
        "id": "7h4pjCKco4sM"
      },
      "source": [
        "Besides creating an array from a sequence of elements, you can easily create an array filled with 0’s"
      ]
    },
    {
      "cell_type": "code",
      "execution_count": 10,
      "metadata": {
        "colab": {
          "base_uri": "https://localhost:8080/"
        },
        "id": "sYU_F8P4o3Oj",
        "outputId": "1506c472-4c45-41cb-bc4d-ecbc3942a9a8"
      },
      "outputs": [
        {
          "data": {
            "text/plain": [
              "array([0., 0.])"
            ]
          },
          "execution_count": 10,
          "metadata": {},
          "output_type": "execute_result"
        }
      ],
      "source": [
        "# auotgenration\n",
        "np.zeros(2)"
      ]
    },
    {
      "cell_type": "code",
      "execution_count": 11,
      "metadata": {
        "colab": {
          "base_uri": "https://localhost:8080/"
        },
        "id": "wMl9RFhXnzvq",
        "outputId": "c7beb3d9-612e-4a97-90b7-696c4dd5a0af"
      },
      "outputs": [
        {
          "data": {
            "text/plain": [
              "array([1., 1., 1.])"
            ]
          },
          "execution_count": 11,
          "metadata": {},
          "output_type": "execute_result"
        }
      ],
      "source": [
        "# filled with ones (autogenration)\n",
        "np.ones(3)"
      ]
    },
    {
      "cell_type": "code",
      "execution_count": 12,
      "metadata": {
        "colab": {
          "base_uri": "https://localhost:8080/"
        },
        "id": "TVsh15WApKo9",
        "outputId": "0f9d26dc-53a6-4dce-dc33-db22e9069855"
      },
      "outputs": [
        {
          "data": {
            "text/plain": [
              "array([0., 0.])"
            ]
          },
          "execution_count": 12,
          "metadata": {},
          "output_type": "execute_result"
        }
      ],
      "source": [
        "# USING EMPTY (autogenration)\n",
        "#empty is used to create an narray of random value existing in memonry only reason we use this is to make an narray faster then any bc you dont have to genrate the values , it not empty as name suggested\n",
        "np.empty(2)"
      ]
    },
    {
      "cell_type": "code",
      "execution_count": 13,
      "metadata": {
        "colab": {
          "base_uri": "https://localhost:8080/"
        },
        "id": "5l6FATn-p0cG",
        "outputId": "6b3d8043-a4fe-478b-80e4-a40975d74f5b"
      },
      "outputs": [
        {
          "name": "stdout",
          "output_type": "stream",
          "text": [
            "[ 0  1  2  3  4  5  6  7  8  9 10 11]\n"
          ]
        },
        {
          "data": {
            "text/plain": [
              "array([2, 4, 6, 8])"
            ]
          },
          "execution_count": 13,
          "metadata": {},
          "output_type": "execute_result"
        }
      ],
      "source": [
        "# can create an array with a range of elements (autogenration):\n",
        "print(np.arange(12))\n",
        "\n",
        "\n",
        "# also can define the array autogenrated  by using parameters\n",
        "#np,arange(first number, last number, and the step size.)\n",
        "np.arange(2,9,2)"
      ]
    },
    {
      "cell_type": "code",
      "execution_count": 14,
      "metadata": {
        "colab": {
          "base_uri": "https://localhost:8080/"
        },
        "id": "3dQWhx1dpqV3",
        "outputId": "4fbb89b4-0e6f-426a-bfdd-9b7846fdb4f3"
      },
      "outputs": [
        {
          "data": {
            "text/plain": [
              "array([  0.,   1.,   2.,   3.,   4.,   5.,   6.,   7.,   8.,   9.,  10.,\n",
              "        11.,  12.,  13.,  14.,  15.,  16.,  17.,  18.,  19.,  20.,  21.,\n",
              "        22.,  23.,  24.,  25.,  26.,  27.,  28.,  29.,  30.,  31.,  32.,\n",
              "        33.,  34.,  35.,  36.,  37.,  38.,  39.,  40.,  41.,  42.,  43.,\n",
              "        44.,  45.,  46.,  47.,  48.,  49.,  50.,  51.,  52.,  53.,  54.,\n",
              "        55.,  56.,  57.,  58.,  59.,  60.,  61.,  62.,  63.,  64.,  65.,\n",
              "        66.,  67.,  68.,  69.,  70.,  71.,  72.,  73.,  74.,  75.,  76.,\n",
              "        77.,  78.,  79.,  80.,  81.,  82.,  83.,  84.,  85.,  86.,  87.,\n",
              "        88.,  89.,  90.,  91.,  92.,  93.,  94.,  95.,  96.,  97.,  98.,\n",
              "        99., 100.])"
            ]
          },
          "execution_count": 14,
          "metadata": {},
          "output_type": "execute_result"
        }
      ],
      "source": [
        "#linespace : use to create a linearly spaced array (autogenration)\n",
        "np.linspace(0,100,101)"
      ]
    },
    {
      "cell_type": "markdown",
      "metadata": {
        "id": "KXb5PunuEl3u"
      },
      "source": [
        "# adding removing sorting elements"
      ]
    },
    {
      "cell_type": "code",
      "execution_count": 15,
      "metadata": {
        "colab": {
          "base_uri": "https://localhost:8080/"
        },
        "id": "ALKf1pzyCJiE",
        "outputId": "0a9befc9-c756-4219-935a-e9558cf315bd"
      },
      "outputs": [],
      "source": [
        "# np.argsort()\n",
        "\n",
        "# Returns indices that would sort an array.\n",
        "# Example:\n",
        "\n",
        "arr = np.array([10, 5, 30])\n",
        "indices = np.argsort(arr)\n",
        "# Output: [1, 0, 2]\n",
        "# Explanation: arr[1]=5, arr[0]=10, arr[2]=30 → sorted order.\n",
        "\n",
        "# Use when: You want to sort indirectly (e.g., reorder another array the same way).\n",
        "\n",
        "\n",
        "\n"
      ]
    },
    {
      "cell_type": "code",
      "execution_count": 16,
      "metadata": {
        "id": "mAzE3ldFFhBL"
      },
      "outputs": [
        {
          "name": "stdout",
          "output_type": "stream",
          "text": [
            "[3 1 2 0]\n"
          ]
        }
      ],
      "source": [
        "# 🔠 np.lexsort()\n",
        "\n",
        "# Performs a stable sort using multiple keys (from last to first key).\n",
        "# Example:\n",
        "\n",
        "names = np.array(['John', 'Jane', 'John', 'Jane'])\n",
        "ages = np.array([25, 30, 20, 25])\n",
        "indices = np.lexsort((ages, names))\n",
        "print(indices)\n",
        "# Sort by name, then age.\n",
        "# Use when: You need multi-level sorting, like by name and then age."
      ]
    },
    {
      "cell_type": "code",
      "execution_count": 17,
      "metadata": {
        "colab": {
          "base_uri": "https://localhost:8080/"
        },
        "id": "digwaz5LFqcE",
        "outputId": "01c1fac0-ea40-4f0b-9cec-e9dcf47e2800"
      },
      "outputs": [
        {
          "data": {
            "text/plain": [
              "np.int64(2)"
            ]
          },
          "execution_count": 17,
          "metadata": {},
          "output_type": "execute_result"
        }
      ],
      "source": [
        "# 🔍 np.searchsorted()\n",
        "\n",
        "# Finds indices where elements should be inserted in a sorted array to maintain order.\n",
        "# Example:\n",
        "\n",
        "arr = np.array([10, 20, 30, 40])\n",
        "np.searchsorted(arr, 25)\n",
        "# Output: 2 (25 should go before 30)\n",
        "\n",
        "# Use when: You're inserting into a sorted array or doing binary search-like tasks."
      ]
    },
    {
      "cell_type": "code",
      "execution_count": 18,
      "metadata": {
        "colab": {
          "base_uri": "https://localhost:8080/"
        },
        "id": "C2pM4wWZFxkV",
        "outputId": "43cc622c-d749-477b-d0cf-18125264383d"
      },
      "outputs": [
        {
          "data": {
            "text/plain": [
              "array([1, 2, 6, 7, 9])"
            ]
          },
          "execution_count": 18,
          "metadata": {},
          "output_type": "execute_result"
        }
      ],
      "source": [
        "\n",
        "# ⚡ np.partition()\n",
        "\n",
        "# Performs a partial sort: places the kth smallest item in its correct position, with smaller ones before and larger ones after, but doesn't fully sort.\n",
        "# Example:\n",
        "\n",
        "arr = np.array([7, 2, 9, 1, 6])\n",
        "np.partition(arr, 2)\n",
        "# Output: [2, 1, 6, 9, 7] (3 smallest elements on left)"
      ]
    },
    {
      "cell_type": "markdown",
      "metadata": {},
      "source": [
        "# 3. SLICING NDARRAY "
      ]
    },
    {
      "cell_type": "code",
      "execution_count": null,
      "metadata": {
        "id": "xQirnCOyF0D_"
      },
      "outputs": [
        {
          "name": "stdout",
          "output_type": "stream",
          "text": [
            "[1 3 4 5 6 7]\n",
            "[3 4 5]\n",
            "[3 4 5 6 7]\n",
            "[1 3 4 5]\n",
            "[1 3 4 5 6 7]\n",
            "[1 4 6]\n",
            "[5 6 7]\n",
            "[1 3 4]\n",
            "[4 5 6]\n",
            "[4 5 6 7]\n",
            "[4 5 6]\n"
          ]
        }
      ],
      "source": [
        "# slicing an ndarray \n",
        "arr = np.array([1, 2, 3, 4, 5, 6, 7])\n",
        "\n",
        "\n",
        "# removing an element from a NumPy array at specific index\n",
        "# NumPy arrays do not have a pop method like Python lists.\n",
        "# To remove an element at index 1, use np.delete:\n",
        "arr = np.delete(arr, 1) # creates a new array without the element the selected index\n",
        "print(arr)\n",
        "\n",
        "# slicing an ndarray (also works with lists in python)\n",
        "print(arr[1:4])  # prints elements from index 1 to 3\n",
        "\n",
        "\n",
        "print(arr[1:])  # prints elements from index 1 to the end\n",
        "print(arr[:4])  # prints elements from the start to index 3\n",
        "print(arr[:])   # prints the entire array\n",
        "print(arr[::2])  # prints every second element (slicing with step)\n",
        "# slicing with negative indices\n",
        "print(arr[-3:])  # prints the last 3 elements\n",
        "print(arr[:-3])  # prints all elements except the last 3\n",
        "print(arr[-4:-1])  # prints elements from index -4 to -2\n",
        "print(arr[-4:])  # prints elements from index -4 to the end\n",
        "print(arr[-4:-1])  # prints elements from index -4 to -2 \n"
      ]
    },
    {
      "cell_type": "markdown",
      "metadata": {},
      "source": [
        "# 4.DATA TYPES IN PYTHON VS NUMPY \n",
        "\n",
        "## PYTHON\n",
        "    strings - used to represent text data, the text is given under quote marks. e.g. \"ABCD\"\n",
        "    integer - used to represent integer numbers. e.g. -1, -2, -3\n",
        "    float - used to represent real numbers. e.g. 1.2, 42.42\n",
        "    boolean - used to represent True or False.\n",
        "    complex - used to represent complex numbers. e.g. 1.0 + 2.0j, 1.5 + 2.5j\n",
        "\n",
        "## IN NUMPY \n",
        "\n",
        "    i - integer\n",
        "    b - boolean\n",
        "    u - unsigned integer\n",
        "    f - float\n",
        "    c - complex float\n",
        "    m - timedelta\n",
        "    M - datetime\n",
        "    O - object\n",
        "    S - string\n",
        "    U - unicode string\n",
        "    V - fixed chunk of memory for other type ( void )\n"
      ]
    },
    {
      "cell_type": "code",
      "execution_count": 63,
      "metadata": {},
      "outputs": [
        {
          "name": "stdout",
          "output_type": "stream",
          "text": [
            "int64\n",
            "float32\n",
            "|S21\n",
            "int64\n"
          ]
        }
      ],
      "source": [
        "#checking data type of an array\n",
        "arr=np.array([1, 2, 3, 4, 5])\n",
        "\n",
        "print(arr.dtype)  # prints the data type of the array elements\n",
        "\n",
        "# changing data type of an array\n",
        "arr_float = arr.astype('f')  # converts the array to float type\n",
        "print(arr_float.dtype)  # prints the new data type of the array elements\n",
        "# changing data type of an array to string\n",
        "arr_str = arr.astype('S')  # converts the array to string type\n",
        "print(arr_str.dtype)  # prints the new data type of the array elements : <U21\n",
        "\n",
        "#creating an array with defined data type\n",
        "arr_int =np.array([1,2,3,4,5],dtype=int)  # creates an array with integer data type\n",
        "print(arr_int.dtype)  # prints the data type of the array elements : int64\n",
        "\n",
        "\n",
        "# can also set size of the data type\n",
        "#Create an array with data type 4 bytes integer:\n",
        "arr_float32 = np.array([1, 2, 3, 4,5],dtype='i4') "
      ]
    },
    {
      "cell_type": "markdown",
      "metadata": {},
      "source": [
        "## The Difference Between Copy and View\n",
        "\n",
        "The main difference between a copy and a view of an array is that the copy is a new array, and the view is just a view of the original array.\n",
        "\n",
        "The copy owns the data and any changes made to the copy will not affect original array, and any changes made to the original array will not affect the copy.\n",
        "\n",
        "The view does not own the data and any changes made to the view will affect the original array, and any changes made to the original array will affect the view."
      ]
    },
    {
      "cell_type": "code",
      "execution_count": 66,
      "metadata": {},
      "outputs": [
        {
          "name": "stdout",
          "output_type": "stream",
          "text": [
            "[0 2 3 4 5]\n",
            "[1 2 3 4 5]\n",
            "[0 2 3 4 5]\n",
            "[0 2 3 4 5]\n"
          ]
        }
      ],
      "source": [
        "arr =np.array([1, 2, 3, 4, 5])\n",
        "x=arr.copy()\n",
        "\n",
        "x[0]=0\n",
        "print(x)\n",
        "print(arr)  \n",
        "\n",
        "\n",
        "# view of an array\n",
        "y=arr.view()  # creates a view of the original array\n",
        "y[0]=0  # modifies the first element of the view\n",
        "print(y)\n",
        "print(arr)"
      ]
    },
    {
      "cell_type": "markdown",
      "metadata": {},
      "source": [
        "# shape of ndarray \n",
        "Shape of an Array\n",
        "\n",
        "The shape of an array is the number of elements in each dimension.\n",
        "ex if array is [1,2,3]\n",
        "               [4,5,6,7]\n",
        "the result of shape : (3,4)  : first column have 3 elements and second column have 4 elements "
      ]
    },
    {
      "cell_type": "code",
      "execution_count": null,
      "metadata": {},
      "outputs": [
        {
          "name": "stdout",
          "output_type": "stream",
          "text": [
            "(2, 4)\n",
            "2\n",
            "[[[[1 2 3 4]]]]\n",
            "(1, 1, 1, 4)\n"
          ]
        }
      ],
      "source": [
        "arr = np.array([[1, 2, 3, 4], [5, 6, 7, 8]])\n",
        "\n",
        "print(arr.shape)\n",
        "print(arr.ndim) # prints the number of dimensions of the array\n",
        "\n",
        "#creating an array with predefined shape\n",
        "\n",
        "arr = np.array([1, 2, 3, 4], ndmin=4)\n",
        "\n",
        "print(arr)\n",
        "print(arr.shape)  # prints the shape of the array\n",
        "\n",
        "\n",
        "# question comes is why [[[[1 2 3 4]]]] is printed\n",
        "# because ndmin=4 means the array will have 4 dimensions, so it adds extra dimensions around the original array\n",
        "# If any dimension had a size 0, it would mean that the array contains no data along that axis — i.e., it's empty. But in your case, the array clearly contains data: [1, 2, 3, 4].\n",
        "#     ndmin=5 → force 5 dimensions\n",
        "#     Original data shape = (4,)\n",
        "#     Added 4 singleton dimensions to the left → (1, 1, 1, 1, 4)\n",
        "\n"
      ]
    },
    {
      "cell_type": "markdown",
      "metadata": {},
      "source": [
        "# RESHAPING AN ARRAY \n",
        "1D-2D\n",
        "Reshaping arrays\n",
        "\n",
        "Reshaping means changing the shape of an array.\n",
        "\n",
        "The shape of an array is the number of elements in each dimension.\n",
        "\n",
        "By reshaping we can add or remove dimensions or change number of elements in each dimension."
      ]
    },
    {
      "cell_type": "code",
      "execution_count": 97,
      "metadata": {},
      "outputs": [
        {
          "name": "stdout",
          "output_type": "stream",
          "text": [
            "[[ 1  2  3]\n",
            " [ 4  5  6]\n",
            " [ 7  8  9]\n",
            " [10 11 12]]\n",
            "Shape of reshaped array: (4, 3)\n",
            "Number of dimensions of the reshaped array: 2\n",
            "3d reshaped array:\n",
            "[[[ 1  2]\n",
            "  [ 3  4]\n",
            "  [ 5  6]]\n",
            "\n",
            " [[ 7  8]\n",
            "  [ 9 10]\n",
            "  [11 12]]]\n",
            "Shape of 3d reshaped array: (2, 3, 2)\n",
            "Number of dimensions of the 3d reshaped array: 3\n"
          ]
        }
      ],
      "source": [
        "arr = np.array([1, 2, 3, 4, 5, 6, 7, 8, 9, 10, 11, 12])\n",
        "reshaped_arr = arr.reshape(4 , 3)  # reshapes the array to 4 rows and 3 columns  \n",
        "print(reshaped_arr)\n",
        "print(\"Shape of reshaped array:\", reshaped_arr.shape)\n",
        "print(\"Number of dimensions of the reshaped array:\", reshaped_arr.ndim)\n",
        "reshaped_arr= arr.reshape(2,3,2)  \n",
        "print(\"3d reshaped array:\")\n",
        "print(reshaped_arr)\n",
        "print(\"Shape of 3d reshaped array:\", reshaped_arr.shape)\n",
        "print(\"Number of dimensions of the 3d reshaped array:\", reshaped_arr.ndim)"
      ]
    },
    {
      "cell_type": "code",
      "execution_count": null,
      "metadata": {},
      "outputs": [],
      "source": []
    },
    {
      "cell_type": "code",
      "execution_count": null,
      "metadata": {},
      "outputs": [],
      "source": []
    },
    {
      "cell_type": "code",
      "execution_count": null,
      "metadata": {},
      "outputs": [],
      "source": []
    },
    {
      "cell_type": "code",
      "execution_count": null,
      "metadata": {},
      "outputs": [],
      "source": []
    },
    {
      "cell_type": "code",
      "execution_count": null,
      "metadata": {},
      "outputs": [],
      "source": []
    },
    {
      "cell_type": "code",
      "execution_count": null,
      "metadata": {},
      "outputs": [],
      "source": []
    },
    {
      "cell_type": "code",
      "execution_count": null,
      "metadata": {},
      "outputs": [],
      "source": []
    }
  ],
  "metadata": {
    "colab": {
      "authorship_tag": "ABX9TyPodBAbfudp2twTkUfTlsUQ",
      "include_colab_link": true,
      "provenance": []
    },
    "kernelspec": {
      "display_name": "myenv",
      "language": "python",
      "name": "python3"
    },
    "language_info": {
      "codemirror_mode": {
        "name": "ipython",
        "version": 3
      },
      "file_extension": ".py",
      "mimetype": "text/x-python",
      "name": "python",
      "nbconvert_exporter": "python",
      "pygments_lexer": "ipython3",
      "version": "3.13.3"
    }
  },
  "nbformat": 4,
  "nbformat_minor": 0
}
